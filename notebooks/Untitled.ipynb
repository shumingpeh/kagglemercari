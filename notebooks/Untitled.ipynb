{
 "cells": [
  {
   "cell_type": "code",
   "execution_count": 31,
   "metadata": {},
   "outputs": [],
   "source": [
    "import pandas as pd\n",
    "import numpy as np\n",
    "import matplotlib.pyplot as plt"
   ]
  },
  {
   "cell_type": "code",
   "execution_count": 32,
   "metadata": {},
   "outputs": [],
   "source": [
    "raw_data = (\n",
    "    pd.read_csv('../data/train.tsv', sep='\\t')\n",
    ")"
   ]
  },
  {
   "cell_type": "code",
   "execution_count": 33,
   "metadata": {},
   "outputs": [
    {
     "data": {
      "text/html": [
       "<div>\n",
       "<style scoped>\n",
       "    .dataframe tbody tr th:only-of-type {\n",
       "        vertical-align: middle;\n",
       "    }\n",
       "\n",
       "    .dataframe tbody tr th {\n",
       "        vertical-align: top;\n",
       "    }\n",
       "\n",
       "    .dataframe thead th {\n",
       "        text-align: right;\n",
       "    }\n",
       "</style>\n",
       "<table border=\"1\" class=\"dataframe\">\n",
       "  <thead>\n",
       "    <tr style=\"text-align: right;\">\n",
       "      <th></th>\n",
       "      <th>train_id</th>\n",
       "      <th>name</th>\n",
       "      <th>item_condition_id</th>\n",
       "      <th>category_name</th>\n",
       "      <th>brand_name</th>\n",
       "      <th>price</th>\n",
       "      <th>shipping</th>\n",
       "      <th>item_description</th>\n",
       "    </tr>\n",
       "  </thead>\n",
       "  <tbody>\n",
       "    <tr>\n",
       "      <th>0</th>\n",
       "      <td>0</td>\n",
       "      <td>MLB Cincinnati Reds T Shirt Size XL</td>\n",
       "      <td>3</td>\n",
       "      <td>Men/Tops/T-shirts</td>\n",
       "      <td>NaN</td>\n",
       "      <td>10.0</td>\n",
       "      <td>1</td>\n",
       "      <td>No description yet</td>\n",
       "    </tr>\n",
       "    <tr>\n",
       "      <th>1</th>\n",
       "      <td>1</td>\n",
       "      <td>Razer BlackWidow Chroma Keyboard</td>\n",
       "      <td>3</td>\n",
       "      <td>Electronics/Computers &amp; Tablets/Components &amp; P...</td>\n",
       "      <td>Razer</td>\n",
       "      <td>52.0</td>\n",
       "      <td>0</td>\n",
       "      <td>This keyboard is in great condition and works ...</td>\n",
       "    </tr>\n",
       "    <tr>\n",
       "      <th>2</th>\n",
       "      <td>2</td>\n",
       "      <td>AVA-VIV Blouse</td>\n",
       "      <td>1</td>\n",
       "      <td>Women/Tops &amp; Blouses/Blouse</td>\n",
       "      <td>Target</td>\n",
       "      <td>10.0</td>\n",
       "      <td>1</td>\n",
       "      <td>Adorable top with a hint of lace and a key hol...</td>\n",
       "    </tr>\n",
       "    <tr>\n",
       "      <th>3</th>\n",
       "      <td>3</td>\n",
       "      <td>Leather Horse Statues</td>\n",
       "      <td>1</td>\n",
       "      <td>Home/Home Décor/Home Décor Accents</td>\n",
       "      <td>NaN</td>\n",
       "      <td>35.0</td>\n",
       "      <td>1</td>\n",
       "      <td>New with tags. Leather horses. Retail for [rm]...</td>\n",
       "    </tr>\n",
       "    <tr>\n",
       "      <th>4</th>\n",
       "      <td>4</td>\n",
       "      <td>24K GOLD plated rose</td>\n",
       "      <td>1</td>\n",
       "      <td>Women/Jewelry/Necklaces</td>\n",
       "      <td>NaN</td>\n",
       "      <td>44.0</td>\n",
       "      <td>0</td>\n",
       "      <td>Complete with certificate of authenticity</td>\n",
       "    </tr>\n",
       "  </tbody>\n",
       "</table>\n",
       "</div>"
      ],
      "text/plain": [
       "   train_id                                 name  item_condition_id  \\\n",
       "0         0  MLB Cincinnati Reds T Shirt Size XL                  3   \n",
       "1         1     Razer BlackWidow Chroma Keyboard                  3   \n",
       "2         2                       AVA-VIV Blouse                  1   \n",
       "3         3                Leather Horse Statues                  1   \n",
       "4         4                 24K GOLD plated rose                  1   \n",
       "\n",
       "                                       category_name brand_name  price  \\\n",
       "0                                  Men/Tops/T-shirts        NaN   10.0   \n",
       "1  Electronics/Computers & Tablets/Components & P...      Razer   52.0   \n",
       "2                        Women/Tops & Blouses/Blouse     Target   10.0   \n",
       "3                 Home/Home Décor/Home Décor Accents        NaN   35.0   \n",
       "4                            Women/Jewelry/Necklaces        NaN   44.0   \n",
       "\n",
       "   shipping                                   item_description  \n",
       "0         1                                 No description yet  \n",
       "1         0  This keyboard is in great condition and works ...  \n",
       "2         1  Adorable top with a hint of lace and a key hol...  \n",
       "3         1  New with tags. Leather horses. Retail for [rm]...  \n",
       "4         0          Complete with certificate of authenticity  "
      ]
     },
     "execution_count": 33,
     "metadata": {},
     "output_type": "execute_result"
    }
   ],
   "source": [
    "raw_data.head()"
   ]
  },
  {
   "cell_type": "markdown",
   "metadata": {},
   "source": [
    "# TODO:\n",
    "\n",
    "## Justin\n",
    "- clean category_name into 3 (n) sub cats - Done\n",
    "- item condition id = https://www.mercari.com/help_center/article/316/\n",
    "- exclude price with 0 or error - done\n",
    "- find brand name from description or item description\n",
    "- those without brand name will be clustered together with brand name\n",
    "- assume categorization is correct for first iteration\n",
    "- find age of product from item name or description if possible\n",
    "\n",
    "\n",
    "\n",
    "## Shuming\n",
    "- age of product from item description if possible\n",
    "- text sentiment analysis from item description --> this correlates with item condition"
   ]
  },
  {
   "cell_type": "code",
   "execution_count": 4,
   "metadata": {},
   "outputs": [
    {
     "data": {
      "text/plain": [
       "1482535"
      ]
     },
     "execution_count": 4,
     "metadata": {},
     "output_type": "execute_result"
    }
   ],
   "source": [
    "len(raw_data['train_id'])"
   ]
  },
  {
   "cell_type": "markdown",
   "metadata": {},
   "source": [
    "## Splitting Categories into main, sub and sub sub"
   ]
  },
  {
   "cell_type": "markdown",
   "metadata": {},
   "source": [
    "## Quite a lot of missing categories\n",
    "\n",
    "Over 6300 obs with missing categories. Leaving aside for the moment."
   ]
  },
  {
   "cell_type": "code",
   "execution_count": 34,
   "metadata": {},
   "outputs": [
    {
     "name": "stdout",
     "output_type": "stream",
     "text": [
      "6327\n",
      "      train_id                                      name  item_condition_id  \\\n",
      "122        122                                    Bundle                  3   \n",
      "155        155                      3 Nora Roberts Books                  3   \n",
      "258        258                               ACER Laptop                  5   \n",
      "984        984  AUTHENTIC BRWN MICHAEL KORS MAKEUP STAIN                  4   \n",
      "1185      1185   Teenage Mutant Ninja Turtle Van/ Extras                  3   \n",
      "\n",
      "     category_name    brand_name  price  shipping  \\\n",
      "122            NaN           NaN   59.0         0   \n",
      "155            NaN           NaN   10.0         1   \n",
      "258            NaN           NaN   14.0         0   \n",
      "984            NaN  Michael Kors   18.0         0   \n",
      "1185           NaN   Nickelodeon    9.0         0   \n",
      "\n",
      "                                       item_description  \n",
      "122   Sizes and info of clothes can be found on thei...  \n",
      "155                                        For aferg16.  \n",
      "258   Powers on, no screen display, no external dama...  \n",
      "984                                  No description yet  \n",
      "1185  Teenage Mutant Ninja Turtle Van, April O'Neil ...  \n"
     ]
    }
   ],
   "source": [
    "print len(raw_data[pd.isna(raw_data['category_name'])==True])\n",
    "print raw_data[pd.isna(raw_data['category_name'])==True].head()"
   ]
  },
  {
   "cell_type": "code",
   "execution_count": 35,
   "metadata": {},
   "outputs": [],
   "source": [
    "temp = raw_data['category_name'].apply(lambda x: 'NaN' if pd.isna(x) else x.split(\"/\"))"
   ]
  },
  {
   "cell_type": "code",
   "execution_count": 36,
   "metadata": {},
   "outputs": [],
   "source": [
    "raw_data['main_category']=temp.apply(lambda x: x[0])\n",
    "raw_data['sub_category']=temp.apply(lambda x: x[1])\n",
    "raw_data['subsub_category']=temp.apply(lambda x: x[2])"
   ]
  },
  {
   "cell_type": "code",
   "execution_count": 37,
   "metadata": {
    "scrolled": true
   },
   "outputs": [
    {
     "data": {
      "text/html": [
       "<div>\n",
       "<style scoped>\n",
       "    .dataframe tbody tr th:only-of-type {\n",
       "        vertical-align: middle;\n",
       "    }\n",
       "\n",
       "    .dataframe tbody tr th {\n",
       "        vertical-align: top;\n",
       "    }\n",
       "\n",
       "    .dataframe thead th {\n",
       "        text-align: right;\n",
       "    }\n",
       "</style>\n",
       "<table border=\"1\" class=\"dataframe\">\n",
       "  <thead>\n",
       "    <tr style=\"text-align: right;\">\n",
       "      <th></th>\n",
       "      <th>train_id</th>\n",
       "      <th>name</th>\n",
       "      <th>item_condition_id</th>\n",
       "      <th>category_name</th>\n",
       "      <th>brand_name</th>\n",
       "      <th>price</th>\n",
       "      <th>shipping</th>\n",
       "      <th>item_description</th>\n",
       "      <th>main_category</th>\n",
       "      <th>sub_category</th>\n",
       "      <th>subsub_category</th>\n",
       "    </tr>\n",
       "  </thead>\n",
       "  <tbody>\n",
       "    <tr>\n",
       "      <th>0</th>\n",
       "      <td>0</td>\n",
       "      <td>MLB Cincinnati Reds T Shirt Size XL</td>\n",
       "      <td>3</td>\n",
       "      <td>Men/Tops/T-shirts</td>\n",
       "      <td>NaN</td>\n",
       "      <td>10.0</td>\n",
       "      <td>1</td>\n",
       "      <td>No description yet</td>\n",
       "      <td>Men</td>\n",
       "      <td>Tops</td>\n",
       "      <td>T-shirts</td>\n",
       "    </tr>\n",
       "    <tr>\n",
       "      <th>1</th>\n",
       "      <td>1</td>\n",
       "      <td>Razer BlackWidow Chroma Keyboard</td>\n",
       "      <td>3</td>\n",
       "      <td>Electronics/Computers &amp; Tablets/Components &amp; P...</td>\n",
       "      <td>Razer</td>\n",
       "      <td>52.0</td>\n",
       "      <td>0</td>\n",
       "      <td>This keyboard is in great condition and works ...</td>\n",
       "      <td>Electronics</td>\n",
       "      <td>Computers &amp; Tablets</td>\n",
       "      <td>Components &amp; Parts</td>\n",
       "    </tr>\n",
       "    <tr>\n",
       "      <th>2</th>\n",
       "      <td>2</td>\n",
       "      <td>AVA-VIV Blouse</td>\n",
       "      <td>1</td>\n",
       "      <td>Women/Tops &amp; Blouses/Blouse</td>\n",
       "      <td>Target</td>\n",
       "      <td>10.0</td>\n",
       "      <td>1</td>\n",
       "      <td>Adorable top with a hint of lace and a key hol...</td>\n",
       "      <td>Women</td>\n",
       "      <td>Tops &amp; Blouses</td>\n",
       "      <td>Blouse</td>\n",
       "    </tr>\n",
       "    <tr>\n",
       "      <th>3</th>\n",
       "      <td>3</td>\n",
       "      <td>Leather Horse Statues</td>\n",
       "      <td>1</td>\n",
       "      <td>Home/Home Décor/Home Décor Accents</td>\n",
       "      <td>NaN</td>\n",
       "      <td>35.0</td>\n",
       "      <td>1</td>\n",
       "      <td>New with tags. Leather horses. Retail for [rm]...</td>\n",
       "      <td>Home</td>\n",
       "      <td>Home Décor</td>\n",
       "      <td>Home Décor Accents</td>\n",
       "    </tr>\n",
       "    <tr>\n",
       "      <th>4</th>\n",
       "      <td>4</td>\n",
       "      <td>24K GOLD plated rose</td>\n",
       "      <td>1</td>\n",
       "      <td>Women/Jewelry/Necklaces</td>\n",
       "      <td>NaN</td>\n",
       "      <td>44.0</td>\n",
       "      <td>0</td>\n",
       "      <td>Complete with certificate of authenticity</td>\n",
       "      <td>Women</td>\n",
       "      <td>Jewelry</td>\n",
       "      <td>Necklaces</td>\n",
       "    </tr>\n",
       "  </tbody>\n",
       "</table>\n",
       "</div>"
      ],
      "text/plain": [
       "   train_id                                 name  item_condition_id  \\\n",
       "0         0  MLB Cincinnati Reds T Shirt Size XL                  3   \n",
       "1         1     Razer BlackWidow Chroma Keyboard                  3   \n",
       "2         2                       AVA-VIV Blouse                  1   \n",
       "3         3                Leather Horse Statues                  1   \n",
       "4         4                 24K GOLD plated rose                  1   \n",
       "\n",
       "                                       category_name brand_name  price  \\\n",
       "0                                  Men/Tops/T-shirts        NaN   10.0   \n",
       "1  Electronics/Computers & Tablets/Components & P...      Razer   52.0   \n",
       "2                        Women/Tops & Blouses/Blouse     Target   10.0   \n",
       "3                 Home/Home Décor/Home Décor Accents        NaN   35.0   \n",
       "4                            Women/Jewelry/Necklaces        NaN   44.0   \n",
       "\n",
       "   shipping                                   item_description main_category  \\\n",
       "0         1                                 No description yet           Men   \n",
       "1         0  This keyboard is in great condition and works ...   Electronics   \n",
       "2         1  Adorable top with a hint of lace and a key hol...         Women   \n",
       "3         1  New with tags. Leather horses. Retail for [rm]...          Home   \n",
       "4         0          Complete with certificate of authenticity         Women   \n",
       "\n",
       "          sub_category     subsub_category  \n",
       "0                 Tops            T-shirts  \n",
       "1  Computers & Tablets  Components & Parts  \n",
       "2       Tops & Blouses              Blouse  \n",
       "3           Home Décor  Home Décor Accents  \n",
       "4              Jewelry           Necklaces  "
      ]
     },
     "execution_count": 37,
     "metadata": {},
     "output_type": "execute_result"
    }
   ],
   "source": [
    "raw_data.head()"
   ]
  },
  {
   "cell_type": "markdown",
   "metadata": {},
   "source": [
    "## Cleaning Price data"
   ]
  },
  {
   "cell_type": "markdown",
   "metadata": {},
   "source": [
    "No missing price data"
   ]
  },
  {
   "cell_type": "code",
   "execution_count": 38,
   "metadata": {},
   "outputs": [
    {
     "data": {
      "text/plain": [
       "False"
      ]
     },
     "execution_count": 38,
     "metadata": {},
     "output_type": "execute_result"
    }
   ],
   "source": [
    "raw_data['price'].isnull().values.any()"
   ]
  },
  {
   "cell_type": "code",
   "execution_count": 39,
   "metadata": {},
   "outputs": [
    {
     "data": {
      "text/plain": [
       "count    1.482535e+06\n",
       "mean     2.673752e+01\n",
       "std      3.858607e+01\n",
       "min      0.000000e+00\n",
       "25%      1.000000e+01\n",
       "50%      1.700000e+01\n",
       "75%      2.900000e+01\n",
       "max      2.009000e+03\n",
       "Name: price, dtype: float64"
      ]
     },
     "execution_count": 39,
     "metadata": {},
     "output_type": "execute_result"
    }
   ],
   "source": [
    "raw_data['price'].describe()"
   ]
  },
  {
   "cell_type": "code",
   "execution_count": 40,
   "metadata": {},
   "outputs": [
    {
     "data": {
      "text/plain": [
       "(array([ 874.,    0.,    0., ...,    0.,    0.,    1.]),\n",
       " array([  0.00000000e+00,   3.33222757e-01,   6.66445513e-01, ...,\n",
       "          2.00833355e+03,   2.00866678e+03,   2.00900000e+03]),\n",
       " <a list of 6029 Patch objects>)"
      ]
     },
     "execution_count": 40,
     "metadata": {},
     "output_type": "execute_result"
    },
    {
     "data": {
      "image/png": "[encoded data removed]",
      "text/plain": [
       "<matplotlib.figure.Figure at 0x1154afbd0>"
      ]
     },
     "metadata": {},
     "output_type": "display_data"
    }
   ],
   "source": [
    "plt.hist(raw_data['price'],bins='fd')"
   ]
  },
  {
   "cell_type": "markdown",
   "metadata": {},
   "source": [
    "## Cleaning Brand Names"
   ]
  },
  {
   "cell_type": "code",
   "execution_count": 41,
   "metadata": {},
   "outputs": [
    {
     "data": {
      "text/plain": [
       "count     849853\n",
       "unique      4809\n",
       "top         PINK\n",
       "freq       54088\n",
       "Name: brand_name, dtype: object"
      ]
     },
     "execution_count": 41,
     "metadata": {},
     "output_type": "execute_result"
    }
   ],
   "source": [
    "raw_data['brand_name'].describe()"
   ]
  },
  {
   "cell_type": "code",
   "execution_count": 48,
   "metadata": {},
   "outputs": [
    {
     "data": {
      "text/plain": [
       "[nan,\n",
       " '!iT Jeans',\n",
       " '% Pure',\n",
       " '10.Deep',\n",
       " '191 Unlimited',\n",
       " '1byone',\n",
       " '21men',\n",
       " '24/7 Comfort Apparel',\n",
       " '2K Games',\n",
       " '2XU',\n",
       " '3.1 Phillip Lim',\n",
       " '3M\\xc2\\xae',\n",
       " '47',\n",
       " '47 Brand',\n",
       " '5.11 Tactical',\n",
       " '525 America',\n",
       " '5th & Ocean',\n",
       " '7 Diamonds',\n",
       " '7 For All Mankind\\xc2\\xae',\n",
       " '8732 Apparel',\n",
       " '90 Degree By Reflex',\n",
       " 'A Bathing Ape',\n",
       " 'A Pea In The Pod',\n",
       " 'A Plus Child Supply',\n",
       " 'A Wish Come True',\n",
       " 'A&A Optical',\n",
       " 'A&E',\n",
       " 'A&R Sports',\n",
       " 'A+D',\n",
       " 'A-Shirt',\n",
       " 'A. Byer',\n",
       " 'A.B.S. by Allen Schwartz',\n",
       " 'A.D. Sutton & Sons',\n",
       " 'A.K.A',\n",
       " 'A.L.C.',\n",
       " 'A.P.C.',\n",
       " 'A/X Armani Exchange',\n",
       " 'AA Aquarium',\n",
       " 'AB Studio',\n",
       " 'ABC Studios',\n",
       " 'ABS by Allen Schwartz',\n",
       " 'AC/DC',\n",
       " 'ACCEL',\n",
       " 'ACDelco',\n",
       " 'ADAM',\n",
       " 'AERIN',\n",
       " 'AG Adriano Goldschmied',\n",
       " 'AGB',\n",
       " 'AGUADECOCO',\n",
       " 'AKA New York',\n",
       " 'AKIRA',\n",
       " 'AKOO',\n",
       " 'ALDO',\n",
       " 'ALEX AND ANI',\n",
       " 'ALLOY',\n",
       " 'ALO Yoga',\n",
       " 'AMD',\n",
       " 'AMIA',\n",
       " 'ANAMA',\n",
       " 'AND',\n",
       " 'AND1',\n",
       " 'ANDREA FENZI',\n",
       " 'ANGL',\n",
       " 'API',\n",
       " 'ARCONA',\n",
       " 'ART',\n",
       " 'ASICS',\n",
       " 'ASOLO',\n",
       " 'ASOS',\n",
       " 'ASSETS by Sara Blakely',\n",
       " 'ASTR',\n",
       " 'ASUS',\n",
       " 'AT&T',\n",
       " 'AT-A-GLANCE',\n",
       " 'ATI Technologies',\n",
       " 'AX Paris',\n",
       " 'Abbott',\n",
       " 'Abercrombie & Fitch',\n",
       " 'Able provider',\n",
       " 'Abu Garcia',\n",
       " 'Acacia Swimwear',\n",
       " 'Academy',\n",
       " 'Accessory Collective',\n",
       " 'Accessory Innovations',\n",
       " 'Accessory Power',\n",
       " 'Accessory Workshop',\n",
       " 'Accutron',\n",
       " 'Acer',\n",
       " 'Acne Jeans',\n",
       " 'Acne Studios',\n",
       " 'Acorn',\n",
       " 'Acrobat',\n",
       " 'Act',\n",
       " 'Active',\n",
       " 'Activision',\n",
       " 'Actron\\xc2\\xae',\n",
       " 'Acure',\n",
       " 'Adagio',\n",
       " 'Adams']"
      ]
     },
     "execution_count": 48,
     "metadata": {},
     "output_type": "execute_result"
    }
   ],
   "source": [
    "np.sort(raw_data['brand_name'].unique())[0:99].tolist()"
   ]
  },
  {
   "cell_type": "code",
   "execution_count": null,
   "metadata": {},
   "outputs": [],
   "source": []
  }
 ],
 "metadata": {
  "kernelspec": {
   "display_name": "Python 2",
   "language": "python",
   "name": "python2"
  },
  "language_info": {
   "codemirror_mode": {
    "name": "ipython",
    "version": 2
   },
   "file_extension": ".py",
   "mimetype": "text/x-python",
   "name": "python",
   "nbconvert_exporter": "python",
   "pygments_lexer": "ipython2",
   "version": "2.7.14"
  }
 },
 "nbformat": 4,
 "nbformat_minor": 2
}
